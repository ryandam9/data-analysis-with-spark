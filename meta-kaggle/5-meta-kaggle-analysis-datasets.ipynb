{
 "cells": [
  {
   "cell_type": "markdown",
   "id": "ea249ecc",
   "metadata": {},
   "source": [
    "# Meta Kaggle Overview - Datasets\n",
    "Kaggle's public data on competitions, users, submission scores, and kernels\n",
    "\n",
    "- https://www.kaggle.com/datasets/kaggle/meta-kaggle\n"
   ]
  },
  {
   "cell_type": "code",
   "execution_count": 12,
   "id": "0ab65cab",
   "metadata": {},
   "outputs": [
    {
     "data": {
      "text/html": [
       "<style type='text/css'>\n",
       ".CodeMirror {\n",
       "    font-size: 14px; \n",
       "    font-family: 'Droid Sans Mono';\n",
       "}\n",
       "</style>\n"
      ],
      "text/plain": [
       "<IPython.core.display.HTML object>"
      ]
     },
     "metadata": {},
     "output_type": "display_data"
    }
   ],
   "source": [
    "%%html\n",
    "<style type='text/css'>\n",
    ".CodeMirror {\n",
    "    font-size: 14px; \n",
    "    font-family: 'Droid Sans Mono';\n",
    "}\n",
    "</style>"
   ]
  },
  {
   "cell_type": "code",
   "execution_count": 13,
   "id": "1103150a",
   "metadata": {},
   "outputs": [
    {
     "data": {
      "text/html": [
       "<style>.container { width:85% !important; }</style>"
      ],
      "text/plain": [
       "<IPython.core.display.HTML object>"
      ]
     },
     "metadata": {},
     "output_type": "display_data"
    }
   ],
   "source": [
    "from IPython.display import display, HTML\n",
    "display(HTML(\"<style>.container { width:85% !important; }</style>\"))"
   ]
  },
  {
   "cell_type": "code",
   "execution_count": 14,
   "id": "1907fee4",
   "metadata": {},
   "outputs": [],
   "source": [
    "import pandas as pd\n",
    "\n",
    "pd.set_option('display.max_rows', 500)\n",
    "pd.set_option('display.max_columns', 500)\n",
    "pd.set_option('display.width', 1000)\n",
    "pd.set_option('display.max_colwidth', 1000)\n",
    "pd.set_option(\"display.max_rows\", None, \"display.max_columns\", None)"
   ]
  },
  {
   "cell_type": "code",
   "execution_count": 15,
   "id": "f806b058",
   "metadata": {},
   "outputs": [],
   "source": [
    "from pyspark.sql import SparkSession\n",
    "from pyspark.sql.types import StructType, StructField, StringType, IntegerType, DoubleType, BooleanType\n",
    "from pyspark.sql.functions import *"
   ]
  },
  {
   "cell_type": "code",
   "execution_count": 16,
   "id": "5f849557",
   "metadata": {},
   "outputs": [],
   "source": [
    "spark = (SparkSession\n",
    "        .builder\n",
    "        .appName(\"meta-kaggle-data-analysis\")\n",
    "        .config(\"spark.driver.memory\", \"4g\")\n",
    "        .config(\"spark.executor.instances\", 4)\n",
    "        .config(\"spark.executor.memory\", \"1g\")\n",
    "        .config(\"spark.executor.cores\", 2)\n",
    "        .getOrCreate()\n",
    "        )"
   ]
  },
  {
   "cell_type": "code",
   "execution_count": 17,
   "id": "6165ea2f",
   "metadata": {},
   "outputs": [
    {
     "data": {
      "text/html": [
       "\n",
       "            <div>\n",
       "                <p><b>SparkSession - in-memory</b></p>\n",
       "                \n",
       "        <div>\n",
       "            <p><b>SparkContext</b></p>\n",
       "\n",
       "            <p><a href=\"http://192.168.0.41:4040\">Spark UI</a></p>\n",
       "\n",
       "            <dl>\n",
       "              <dt>Version</dt>\n",
       "                <dd><code>v3.5.1</code></dd>\n",
       "              <dt>Master</dt>\n",
       "                <dd><code>local[*]</code></dd>\n",
       "              <dt>AppName</dt>\n",
       "                <dd><code>meta-kaggle-data-analysis</code></dd>\n",
       "            </dl>\n",
       "        </div>\n",
       "        \n",
       "            </div>\n",
       "        "
      ],
      "text/plain": [
       "<pyspark.sql.session.SparkSession at 0x7f9e839a5fd0>"
      ]
     },
     "execution_count": 17,
     "metadata": {},
     "output_type": "execute_result"
    }
   ],
   "source": [
    "spark"
   ]
  },
  {
   "cell_type": "markdown",
   "id": "cb58bb30",
   "metadata": {},
   "source": [
    "****"
   ]
  },
  {
   "cell_type": "markdown",
   "id": "c4c2e9b8",
   "metadata": {},
   "source": [
    "## Datasets\n",
    "\n",
    "- Here, I am not using the original version of the `DatasetVersions.csv` file.\n",
    "- I have formatted the original a bit.\n",
    "- The formatted file will have:\n",
    "    - Summary attribute\n",
    "    - All new lines in \"Description\" are replaced with three tildas (~~~)\n",
    "    \n",
    "- Field separator is Unit Separator char (ASCII - 31)."
   ]
  },
  {
   "cell_type": "code",
   "execution_count": 18,
   "id": "ebf69d0b",
   "metadata": {},
   "outputs": [],
   "source": [
    "data_files_path = \"/home/rk/Desktop/data/kaggle-meta/formatted\""
   ]
  },
  {
   "cell_type": "markdown",
   "id": "f1a792c0",
   "metadata": {},
   "source": [
    "****"
   ]
  },
  {
   "cell_type": "markdown",
   "id": "0e944826",
   "metadata": {},
   "source": [
    "## Datasets"
   ]
  },
  {
   "cell_type": "code",
   "execution_count": 19,
   "id": "0e7fbc17",
   "metadata": {},
   "outputs": [],
   "source": [
    "datasets_file = f\"{data_files_path}/DatasetVersions_fmt_1.csv\""
   ]
  },
  {
   "cell_type": "code",
   "execution_count": 20,
   "id": "29160e11",
   "metadata": {},
   "outputs": [],
   "source": [
    "schema = StructType([\n",
    "    StructField(\"Id\", IntegerType()),\n",
    "    StructField(\"DatasetId\", IntegerType()),\n",
    "    StructField(\"DatasourceVersionId\", IntegerType()),\n",
    "    StructField(\"CreatorUserId\", IntegerType()),\n",
    "    StructField(\"LicenseName\", StringType()),\n",
    "    StructField(\"CreationDate\", StringType()),\n",
    "    StructField(\"VersionNumber\", IntegerType()),\n",
    "    StructField(\"Title\", StringType()),\n",
    "    StructField(\"Slug\", StringType()),\n",
    "    StructField(\"Subtitle\", StringType()),\n",
    "    StructField(\"Summary\", StringType()),\n",
    "    StructField(\"Description\", StringType()),\n",
    "])"
   ]
  },
  {
   "cell_type": "code",
   "execution_count": 21,
   "id": "ab304874",
   "metadata": {},
   "outputs": [
    {
     "name": "stdout",
     "output_type": "stream",
     "text": [
      "root\n",
      " |-- Id: integer (nullable = true)\n",
      " |-- DatasetId: integer (nullable = true)\n",
      " |-- DatasourceVersionId: integer (nullable = true)\n",
      " |-- CreatorUserId: integer (nullable = true)\n",
      " |-- LicenseName: string (nullable = true)\n",
      " |-- CreationDate: string (nullable = true)\n",
      " |-- VersionNumber: integer (nullable = true)\n",
      " |-- Title: string (nullable = true)\n",
      " |-- Slug: string (nullable = true)\n",
      " |-- Subtitle: string (nullable = true)\n",
      " |-- Summary: string (nullable = true)\n",
      " |-- Description: string (nullable = true)\n",
      "\n"
     ]
    }
   ],
   "source": [
    "datasets = (\n",
    "    spark.read.format(\"csv\")\n",
    "    .option(\"header\", False)\n",
    "    .option(\"sep\", chr(31))\n",
    "    .schema(schema)\n",
    "    .load(datasets_file)\n",
    ") \n",
    "\n",
    "datasets.createOrReplaceTempView(\"datasets\")\n",
    "datasets.printSchema()"
   ]
  },
  {
   "cell_type": "markdown",
   "id": "2e7f03b1",
   "metadata": {},
   "source": [
    "****"
   ]
  },
  {
   "cell_type": "code",
   "execution_count": 22,
   "id": "ec430d31",
   "metadata": {},
   "outputs": [
    {
     "data": {
      "text/html": [
       "<div>\n",
       "<style scoped>\n",
       "    .dataframe tbody tr th:only-of-type {\n",
       "        vertical-align: middle;\n",
       "    }\n",
       "\n",
       "    .dataframe tbody tr th {\n",
       "        vertical-align: top;\n",
       "    }\n",
       "\n",
       "    .dataframe thead th {\n",
       "        text-align: right;\n",
       "    }\n",
       "</style>\n",
       "<table border=\"1\" class=\"dataframe\">\n",
       "  <thead>\n",
       "    <tr style=\"text-align: right;\">\n",
       "      <th></th>\n",
       "      <th>Id</th>\n",
       "      <th>DatasetId</th>\n",
       "      <th>CreatorUserId</th>\n",
       "      <th>LicenseName</th>\n",
       "      <th>CreationDate</th>\n",
       "      <th>Title</th>\n",
       "      <th>Subtitle</th>\n",
       "      <th>Summary</th>\n",
       "      <th>Description</th>\n",
       "    </tr>\n",
       "  </thead>\n",
       "  <tbody>\n",
       "    <tr>\n",
       "      <th>0</th>\n",
       "      <td>6</td>\n",
       "      <td>6</td>\n",
       "      <td>1</td>\n",
       "      <td>CC0: Public Domain</td>\n",
       "      <td>07/18/2015 00:51:12</td>\n",
       "      <td>2013 American Community Survey</td>\n",
       "      <td>Find insights in the 2013 American Community Survey</td>\n",
       "      <td>The [American Community Survey](http://www.census.gov/programs-surveys/acs/) is an ongoing survey from the US Census Bureau. In this survey  approximately 3.5 million households per year are asked detailed questions about who they are and how they live. Many [topics](http://www.census.gov/programs-surveys/acs/guidance/subjects.html) are covered  including ancestry  education  work  transportation  internet use  and residency.</td>\n",
       "      <td>The [American Community Survey](http://www.census.gov/programs-surveys/acs/) is an ongoing survey from the US Census Bureau. In this survey  approximately 3.5 million households per year are asked detailed questions about who they are and how they live. Many [topics](http://www.census.gov/programs-surveys/acs/guidance/subjects.html) are covered  including ancestry  education  work  transportation  internet use  and residency.\\n\\nThe responses reveal a fascinating, granular snapshot into the lives of many Americans.\\n\\n[![Number of Households Surveyed](https://www.kaggle.io/svf/30288/6679caba9ecb435abbb518d96ca1fcd3/number_of_households_surveyed.png)](https://www.kaggle.com/benhamner/d/census/2013-american-community-survey/number-of-households-surveyed-map)\\n\\nWe''re publishing this data on scripts to make it easy for you to explore this rich dataset, share your work, and collaborate with other data scientists. No data download or local environment needed! We''ve also added shapefil...</td>\n",
       "    </tr>\n",
       "    <tr>\n",
       "      <th>1</th>\n",
       "      <td>7</td>\n",
       "      <td>7</td>\n",
       "      <td>1</td>\n",
       "      <td>Reddit API Terms</td>\n",
       "      <td>08/04/2015 23:59:00</td>\n",
       "      <td>May 2015 Reddit Comments</td>\n",
       "      <td>Get personal with a dataset of comments from May 2015</td>\n",
       "      <td>Recently Reddit released [an enormous dataset](https://www.reddit.com/r/datasets/comments/3bxlg7/i_have_every_publicly_available_reddit_comment/) containing all ~1.7 billion of their publicly available comments. The full dataset is an unwieldy 1+ terabyte uncompressed  so we've decided to host a small portion of the comments here for Kagglers to explore. (You don't even need to leave your browser!)</td>\n",
       "      <td>Recently Reddit released [an enormous dataset](https://www.reddit.com/r/datasets/comments/3bxlg7/i_have_every_publicly_available_reddit_comment/) containing all ~1.7 billion of their publicly available comments. The full dataset is an unwieldy 1+ terabyte uncompressed  so we've decided to host a small portion of the comments here for Kagglers to explore. (You don't even need to leave your browser!)\\n\\nYou can find all the comments from May 2015 on scripts for your natural language processing pleasure. What had redditors laughing, bickering, and NSFW-ing this spring?\\n\\nWho knows? Top visualizations may just end up on [Reddit](https://www.reddit.com/r/dataisbeautiful).\\n\\n## Data Description\\n\\nThe database has one table, `May2015`, with the following fields:\\n\\n - created_utc\\n - ups\\n - subreddit_id\\n - link_id\\n - name\\n - score_hidden\\n - author_flair_css_class\\n - author_flair_text\\n - subreddit\\n - id\\n - removal_reason\\n - gilded\\n - downs\\n - archived\\n - author\\n - score\\n ...</td>\n",
       "    </tr>\n",
       "  </tbody>\n",
       "</table>\n",
       "</div>"
      ],
      "text/plain": [
       "   Id  DatasetId  CreatorUserId         LicenseName         CreationDate                           Title                                               Subtitle                                                                                                                                                                                                                                                                                                                                                                                                                                         Summary  \\\n",
       "0   6          6              1  CC0: Public Domain  07/18/2015 00:51:12  2013 American Community Survey    Find insights in the 2013 American Community Survey  The [American Community Survey](http://www.census.gov/programs-surveys/acs/) is an ongoing survey from the US Census Bureau. In this survey  approximately 3.5 million households per year are asked detailed questions about who they are and how they live. Many [topics](http://www.census.gov/programs-surveys/acs/guidance/subjects.html) are covered  including ancestry  education  work  transportation  internet use  and residency.    \n",
       "1   7          7              1    Reddit API Terms  08/04/2015 23:59:00        May 2015 Reddit Comments  Get personal with a dataset of comments from May 2015                              Recently Reddit released [an enormous dataset](https://www.reddit.com/r/datasets/comments/3bxlg7/i_have_every_publicly_available_reddit_comment/) containing all ~1.7 billion of their publicly available comments. The full dataset is an unwieldy 1+ terabyte uncompressed  so we've decided to host a small portion of the comments here for Kagglers to explore. (You don't even need to leave your browser!)    \n",
       "\n",
       "                                                                                                                                                                                                                                                                                                                                                                                                                                                                                                                                                                                                                                                                                                                                                                                                                                                                                                                                                                                                                               Description  \n",
       "0  The [American Community Survey](http://www.census.gov/programs-surveys/acs/) is an ongoing survey from the US Census Bureau. In this survey  approximately 3.5 million households per year are asked detailed questions about who they are and how they live. Many [topics](http://www.census.gov/programs-surveys/acs/guidance/subjects.html) are covered  including ancestry  education  work  transportation  internet use  and residency.\\n\\nThe responses reveal a fascinating, granular snapshot into the lives of many Americans.\\n\\n[![Number of Households Surveyed](https://www.kaggle.io/svf/30288/6679caba9ecb435abbb518d96ca1fcd3/number_of_households_surveyed.png)](https://www.kaggle.com/benhamner/d/census/2013-american-community-survey/number-of-households-surveyed-map)\\n\\nWe''re publishing this data on scripts to make it easy for you to explore this rich dataset, share your work, and collaborate with other data scientists. No data download or local environment needed! We''ve also added shapefil...  \n",
       "1  Recently Reddit released [an enormous dataset](https://www.reddit.com/r/datasets/comments/3bxlg7/i_have_every_publicly_available_reddit_comment/) containing all ~1.7 billion of their publicly available comments. The full dataset is an unwieldy 1+ terabyte uncompressed  so we've decided to host a small portion of the comments here for Kagglers to explore. (You don't even need to leave your browser!)\\n\\nYou can find all the comments from May 2015 on scripts for your natural language processing pleasure. What had redditors laughing, bickering, and NSFW-ing this spring?\\n\\nWho knows? Top visualizations may just end up on [Reddit](https://www.reddit.com/r/dataisbeautiful).\\n\\n## Data Description\\n\\nThe database has one table, `May2015`, with the following fields:\\n\\n - created_utc\\n - ups\\n - subreddit_id\\n - link_id\\n - name\\n - score_hidden\\n - author_flair_css_class\\n - author_flair_text\\n - subreddit\\n - id\\n - removal_reason\\n - gilded\\n - downs\\n - archived\\n - author\\n - score\\n ...  "
      ]
     },
     "execution_count": 22,
     "metadata": {},
     "output_type": "execute_result"
    }
   ],
   "source": [
    "spark.sql(\"\"\"\n",
    "SELECT\n",
    "    Id\n",
    "  , DatasetId\n",
    "  , CreatorUserId\n",
    "  , LicenseName\n",
    "  , CreationDate\n",
    "  , Title\n",
    "  , Subtitle\n",
    "  , Summary\n",
    "  , REPLACE(Description, '~~~', '\\n') AS Description\n",
    "FROM \n",
    "    datasets \n",
    "limit 2\n",
    "\"\"\").toPandas()"
   ]
  },
  {
   "cell_type": "code",
   "execution_count": 23,
   "id": "2ab60145",
   "metadata": {},
   "outputs": [
    {
     "data": {
      "text/html": [
       "<div>\n",
       "<style scoped>\n",
       "    .dataframe tbody tr th:only-of-type {\n",
       "        vertical-align: middle;\n",
       "    }\n",
       "\n",
       "    .dataframe tbody tr th {\n",
       "        vertical-align: top;\n",
       "    }\n",
       "\n",
       "    .dataframe thead th {\n",
       "        text-align: right;\n",
       "    }\n",
       "</style>\n",
       "<table border=\"1\" class=\"dataframe\">\n",
       "  <thead>\n",
       "    <tr style=\"text-align: right;\">\n",
       "      <th></th>\n",
       "      <th>count(1)</th>\n",
       "    </tr>\n",
       "  </thead>\n",
       "  <tbody>\n",
       "    <tr>\n",
       "      <th>0</th>\n",
       "      <td>1046579</td>\n",
       "    </tr>\n",
       "  </tbody>\n",
       "</table>\n",
       "</div>"
      ],
      "text/plain": [
       "   count(1)\n",
       "0   1046579"
      ]
     },
     "execution_count": 23,
     "metadata": {},
     "output_type": "execute_result"
    }
   ],
   "source": [
    "spark.sql(\"SELECT COUNT(*) FROM datasets\").toPandas()"
   ]
  },
  {
   "cell_type": "markdown",
   "id": "63b31e58",
   "metadata": {},
   "source": [
    "### Users"
   ]
  },
  {
   "cell_type": "code",
   "execution_count": 24,
   "id": "644400f4",
   "metadata": {},
   "outputs": [
    {
     "name": "stdout",
     "output_type": "stream",
     "text": [
      "root\n",
      " |-- Id: string (nullable = true)\n",
      " |-- UserName: string (nullable = true)\n",
      " |-- DisplayName: string (nullable = true)\n",
      " |-- RegisterDate: string (nullable = true)\n",
      " |-- PerformanceTier: string (nullable = true)\n",
      "\n"
     ]
    }
   ],
   "source": [
    "users_file = \"/home/rk/Desktop/data/kaggle-meta/Users.csv\"\n",
    "users = spark.read.csv(users_file, header=True)\n",
    "users.createOrReplaceTempView(\"users\")\n",
    "users.printSchema()"
   ]
  },
  {
   "cell_type": "code",
   "execution_count": 25,
   "id": "612ecca3",
   "metadata": {},
   "outputs": [
    {
     "name": "stderr",
     "output_type": "stream",
     "text": [
      "                                                                                \r"
     ]
    },
    {
     "data": {
      "text/html": [
       "<div>\n",
       "<style scoped>\n",
       "    .dataframe tbody tr th:only-of-type {\n",
       "        vertical-align: middle;\n",
       "    }\n",
       "\n",
       "    .dataframe tbody tr th {\n",
       "        vertical-align: top;\n",
       "    }\n",
       "\n",
       "    .dataframe thead th {\n",
       "        text-align: right;\n",
       "    }\n",
       "</style>\n",
       "<table border=\"1\" class=\"dataframe\">\n",
       "  <thead>\n",
       "    <tr style=\"text-align: right;\">\n",
       "      <th></th>\n",
       "      <th>UserId</th>\n",
       "      <th>UserName</th>\n",
       "      <th>DisplayName</th>\n",
       "      <th>PerformanceTier</th>\n",
       "      <th>dataset_url</th>\n",
       "      <th>DatasetId</th>\n",
       "      <th>LicenseName</th>\n",
       "      <th>CreationDate</th>\n",
       "      <th>Title</th>\n",
       "      <th>Subtitle</th>\n",
       "      <th>Summary</th>\n",
       "    </tr>\n",
       "  </thead>\n",
       "  <tbody>\n",
       "    <tr>\n",
       "      <th>0</th>\n",
       "      <td>808</td>\n",
       "      <td>alexxanderlarko</td>\n",
       "      <td>Alexander  Larko</td>\n",
       "      <td>4</td>\n",
       "      <td>https://www.kaggle.com/datasets/alexxanderlarko/melanoma384x384ext</td>\n",
       "      <td>752404</td>\n",
       "      <td>Unknown</td>\n",
       "      <td>2020-07-02</td>\n",
       "      <td>melanoma-384x384ext</td>\n",
       "      <td>None</td>\n",
       "      <td>Initial release 0 0</td>\n",
       "    </tr>\n",
       "    <tr>\n",
       "      <th>1</th>\n",
       "      <td>808</td>\n",
       "      <td>alexxanderlarko</td>\n",
       "      <td>Alexander  Larko</td>\n",
       "      <td>4</td>\n",
       "      <td>https://www.kaggle.com/datasets/alexxanderlarko/melanoma384x384ext</td>\n",
       "      <td>752404</td>\n",
       "      <td>Unknown</td>\n",
       "      <td>2020-07-02</td>\n",
       "      <td>melanoma-384x384ext</td>\n",
       "      <td>None</td>\n",
       "      <td>melanoma-384x384ext 0 0</td>\n",
       "    </tr>\n",
       "    <tr>\n",
       "      <th>2</th>\n",
       "      <td>808</td>\n",
       "      <td>alexxanderlarko</td>\n",
       "      <td>Alexander  Larko</td>\n",
       "      <td>4</td>\n",
       "      <td>https://www.kaggle.com/datasets/alexxanderlarko/data384</td>\n",
       "      <td>831541</td>\n",
       "      <td>Unknown</td>\n",
       "      <td>2020-08-15</td>\n",
       "      <td>data384</td>\n",
       "      <td>None</td>\n",
       "      <td>Initial release 0 0</td>\n",
       "    </tr>\n",
       "  </tbody>\n",
       "</table>\n",
       "</div>"
      ],
      "text/plain": [
       "  UserId         UserName       DisplayName PerformanceTier                                                         dataset_url  DatasetId LicenseName CreationDate                Title Subtitle                    Summary\n",
       "0    808  alexxanderlarko  Alexander  Larko               4  https://www.kaggle.com/datasets/alexxanderlarko/melanoma384x384ext     752404     Unknown   2020-07-02  melanoma-384x384ext     None       Initial release 0 0 \n",
       "1    808  alexxanderlarko  Alexander  Larko               4  https://www.kaggle.com/datasets/alexxanderlarko/melanoma384x384ext     752404     Unknown   2020-07-02  melanoma-384x384ext     None   melanoma-384x384ext 0 0 \n",
       "2    808  alexxanderlarko  Alexander  Larko               4             https://www.kaggle.com/datasets/alexxanderlarko/data384     831541     Unknown   2020-08-15              data384     None       Initial release 0 0 "
      ]
     },
     "execution_count": 25,
     "metadata": {},
     "output_type": "execute_result"
    }
   ],
   "source": [
    "datasets_out = spark.sql(\"\"\"\n",
    "SELECT\n",
    "    u.Id AS UserId\n",
    "  , u.UserName\n",
    "  , u.DisplayName\n",
    "  , u.PerformanceTier\n",
    "  , CONCAT(\"https://www.kaggle.com/datasets/\", u.UserName, \"/\", a.Slug) AS dataset_url\n",
    "  , a.DatasetId\n",
    "  , a.LicenseName\n",
    "  , CASE\n",
    "      WHEN LENGTH(a.CreationDate) >= 10 AND \n",
    "           regexp_extract(a.CreationDate, r\"(\\d{2}/\\d{2}/\\d{4})\", 1) != \"\" AND\n",
    "           regexp_extract(a.CreationDate, r\"(\\d{2}/\\d{2}/\\d{4})\", 1) IS NOT NULL THEN\n",
    "          to_date(SUBSTR(a.CreationDate, 1, 10), \"MM/dd/yyyy\")\n",
    "      ELSE\n",
    "          '2010-01-01'\n",
    "    END AS CreationDate\n",
    "  , a.Title\n",
    "  , a.Subtitle\n",
    "  , a.Summary  \n",
    "FROM\n",
    "    datasets a\n",
    "  , users u\n",
    "WHERE\n",
    "    a.CreatorUserId = u.Id\n",
    "\"\"\")\n",
    "\n",
    "datasets_out.limit(3).toPandas()"
   ]
  },
  {
   "cell_type": "markdown",
   "id": "b68c9ed5",
   "metadata": {},
   "source": [
    "### Write to a CSV file"
   ]
  },
  {
   "cell_type": "code",
   "execution_count": 26,
   "id": "6ffca8ac",
   "metadata": {},
   "outputs": [
    {
     "name": "stderr",
     "output_type": "stream",
     "text": [
      "                                                                                \r"
     ]
    }
   ],
   "source": [
    "out_file = f\"{data_files_path}/DatasetVersions_fmt.csv\"\n",
    "datasets_out.orderBy(\"CreationDate\", ascending=False).toPandas().to_csv(out_file, index=False)"
   ]
  },
  {
   "cell_type": "code",
   "execution_count": 28,
   "id": "56bfa493",
   "metadata": {},
   "outputs": [],
   "source": [
    "# spark.stop()"
   ]
  }
 ],
 "metadata": {
  "kernelspec": {
   "display_name": "Python 3 (ipykernel)",
   "language": "python",
   "name": "python3"
  },
  "language_info": {
   "codemirror_mode": {
    "name": "ipython",
    "version": 3
   },
   "file_extension": ".py",
   "mimetype": "text/x-python",
   "name": "python",
   "nbconvert_exporter": "python",
   "pygments_lexer": "ipython3",
   "version": "3.11.5"
  }
 },
 "nbformat": 4,
 "nbformat_minor": 5
}

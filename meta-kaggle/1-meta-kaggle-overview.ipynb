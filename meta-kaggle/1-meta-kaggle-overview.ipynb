{
 "cells": [
  {
   "cell_type": "markdown",
   "id": "5fc9ae91",
   "metadata": {},
   "source": [
    "# Meta Kaggle Overview\n",
    "Kaggle's public data on competitions, users, submission scores, and kernels\n",
    "\n",
    "- https://www.kaggle.com/datasets/kaggle/meta-kaggle\n"
   ]
  },
  {
   "cell_type": "code",
   "execution_count": 1,
   "id": "2a6c5151",
   "metadata": {},
   "outputs": [
    {
     "data": {
      "text/html": [
       "<style type='text/css'>\n",
       ".CodeMirror {\n",
       "    font-size: 14px; \n",
       "    font-family: 'Droid Sans Mono';\n",
       "}\n",
       "</style>\n"
      ],
      "text/plain": [
       "<IPython.core.display.HTML object>"
      ]
     },
     "metadata": {},
     "output_type": "display_data"
    }
   ],
   "source": [
    "%%html\n",
    "<style type='text/css'>\n",
    ".CodeMirror {\n",
    "    font-size: 14px; \n",
    "    font-family: 'Droid Sans Mono';\n",
    "}\n",
    "</style>"
   ]
  },
  {
   "cell_type": "code",
   "execution_count": 2,
   "id": "3b3721d4",
   "metadata": {},
   "outputs": [
    {
     "data": {
      "text/html": [
       "<style>.container { width:85% !important; }</style>"
      ],
      "text/plain": [
       "<IPython.core.display.HTML object>"
      ]
     },
     "metadata": {},
     "output_type": "display_data"
    }
   ],
   "source": [
    "from IPython.display import display, HTML\n",
    "display(HTML(\"<style>.container { width:85% !important; }</style>\"))"
   ]
  },
  {
   "cell_type": "code",
   "execution_count": 3,
   "id": "3e031f15",
   "metadata": {},
   "outputs": [],
   "source": [
    "import pandas as pd\n",
    "\n",
    "pd.set_option('display.max_rows', 500)\n",
    "pd.set_option('display.max_columns', 500)\n",
    "pd.set_option('display.width', 1000)\n",
    "pd.set_option('display.max_colwidth', 1000)\n",
    "pd.set_option(\"display.max_rows\", None, \"display.max_columns\", None)"
   ]
  },
  {
   "cell_type": "code",
   "execution_count": 4,
   "id": "8231d345",
   "metadata": {},
   "outputs": [],
   "source": [
    "import seaborn as sns\n",
    "import matplotlib.pyplot as plt"
   ]
  },
  {
   "cell_type": "code",
   "execution_count": 5,
   "id": "82f092d0",
   "metadata": {},
   "outputs": [],
   "source": [
    "from pyspark.sql import SparkSession\n",
    "from pyspark.sql.types import StructType, StructField, StringType, IntegerType, DoubleType\n",
    "from pyspark.sql.functions import *"
   ]
  },
  {
   "cell_type": "code",
   "execution_count": 6,
   "id": "6e6a650c",
   "metadata": {},
   "outputs": [
    {
     "name": "stderr",
     "output_type": "stream",
     "text": [
      "24/03/08 19:46:06 WARN Utils: Your hostname, blue resolves to a loopback address: 127.0.1.1; using 192.168.0.41 instead (on interface wlo1)\n",
      "24/03/08 19:46:06 WARN Utils: Set SPARK_LOCAL_IP if you need to bind to another address\n",
      "Setting default log level to \"WARN\".\n",
      "To adjust logging level use sc.setLogLevel(newLevel). For SparkR, use setLogLevel(newLevel).\n",
      "24/03/08 19:46:06 WARN NativeCodeLoader: Unable to load native-hadoop library for your platform... using builtin-java classes where applicable\n"
     ]
    }
   ],
   "source": [
    "spark = (SparkSession\n",
    "        .builder\n",
    "        .appName(\"meta-kaggle-data-analysis\")\n",
    "        .getOrCreate()\n",
    "        )"
   ]
  },
  {
   "cell_type": "code",
   "execution_count": 7,
   "id": "3eb5979c",
   "metadata": {},
   "outputs": [
    {
     "data": {
      "text/html": [
       "\n",
       "            <div>\n",
       "                <p><b>SparkSession - in-memory</b></p>\n",
       "                \n",
       "        <div>\n",
       "            <p><b>SparkContext</b></p>\n",
       "\n",
       "            <p><a href=\"http://192.168.0.41:4040\">Spark UI</a></p>\n",
       "\n",
       "            <dl>\n",
       "              <dt>Version</dt>\n",
       "                <dd><code>v3.5.1</code></dd>\n",
       "              <dt>Master</dt>\n",
       "                <dd><code>local[*]</code></dd>\n",
       "              <dt>AppName</dt>\n",
       "                <dd><code>meta-kaggle-data-analysis</code></dd>\n",
       "            </dl>\n",
       "        </div>\n",
       "        \n",
       "            </div>\n",
       "        "
      ],
      "text/plain": [
       "<pyspark.sql.session.SparkSession at 0x7f349ce40a10>"
      ]
     },
     "execution_count": 7,
     "metadata": {},
     "output_type": "execute_result"
    }
   ],
   "source": [
    "spark"
   ]
  },
  {
   "cell_type": "code",
   "execution_count": 8,
   "id": "66b0dfa2",
   "metadata": {},
   "outputs": [],
   "source": [
    "data_files_path = \"/home/rk/Desktop/data/kaggle-meta\""
   ]
  },
  {
   "cell_type": "code",
   "execution_count": 9,
   "id": "4b89bfd8",
   "metadata": {},
   "outputs": [
    {
     "name": "stdout",
     "output_type": "stream",
     "text": [
      "total 28G\r\n",
      "-rw-rw-r-- 1 rk rk  13G Mar  5 02:12 EpisodeAgents.csv\r\n",
      "-rw-rw-r-- 1 rk rk 4.8G Mar  5 02:38 UserAchievements.csv\r\n",
      "-rw-rw-r-- 1 rk rk 3.5G Mar  5 02:30 Episodes.csv\r\n",
      "-rw-rw-r-- 1 rk rk 1.7G Mar  5 02:36 Submissions.csv\r\n",
      "-rw-rw-r-- 1 rk rk 1.5G Mar  5 02:34 KernelVersions.csv\r\n",
      "-rw-rw-r-- 1 rk rk 953M Mar  5 02:41 Users.csv\r\n",
      "-rw-rw-r-- 1 rk rk 869M Mar  5 02:09 DatasetVersions.csv\r\n",
      "-rw-rw-r-- 1 rk rk 746M Mar  5 02:32 ForumMessages.csv\r\n",
      "-rw-rw-r-- 1 rk rk 549M Mar  5 02:38 Teams.csv\r\n",
      "-rw-rw-r-- 1 rk rk 303M Mar  5 02:38 TeamMemberships.csv\r\n",
      "-rw-rw-r-- 1 rk rk 236M Mar  5 02:34 KernelVersionDatasetSources.csv\r\n",
      "-rw-rw-r-- 1 rk rk 188M Mar  5 02:36 KernelVotes.csv\r\n",
      "-rw-rw-r-- 1 rk rk 165M Mar  5 02:36 Kernels.csv\r\n",
      "-rw-rw-r-- 1 rk rk 149M Mar  5 02:32 ForumMessageVotes.csv\r\n",
      "-rw-rw-r-- 1 rk rk  75M Mar  5 02:11 DatasetVotes.csv\r\n",
      "-rw-rw-r-- 1 rk rk  71M Mar  5 02:33 KernelVersionCompetitionSources.csv\r\n",
      "-rw-rw-r-- 1 rk rk  58M Mar  5 02:41 UserFollowers.csv\r\n",
      "-rw-rw-r-- 1 rk rk  52M Mar  5 02:33 ForumTopics.csv\r\n",
      "-rw-rw-r-- 1 rk rk  36M Mar  5 02:11 Datasets.csv\r\n",
      "-rw-rw-r-- 1 rk rk  23M Mar  5 02:34 KernelVersionKernelSources.csv\r\n",
      "-rw-rw-r-- 1 rk rk  23M Mar  5 02:33 KernelTags.csv\r\n",
      "-rw-rw-r-- 1 rk rk  17M Mar  5 02:11 Datasources.csv\r\n",
      "-rw-rw-r-- 1 rk rk  14M Mar  5 02:33 Forums.csv\r\n",
      "-rw-rw-r-- 1 rk rk 8.0M Mar  5 02:09 DatasetTags.csv\r\n",
      "-rw-rw-r-- 1 rk rk 7.6M Mar  5 02:09 DatasetTasks.csv\r\n",
      "-rw-rw-r-- 1 rk rk 2.5M Mar  5 02:09 Competitions.csv\r\n",
      "-rw-rw-r-- 1 rk rk 651K Mar  5 02:09 DatasetTaskSubmissions.csv\r\n",
      "-rw-rw-r-- 1 rk rk 265K Mar  5 02:36 Organizations.csv\r\n",
      "-rw-rw-r-- 1 rk rk  96K Mar  5 02:38 Tags.csv\r\n",
      "-rw-rw-r-- 1 rk rk  63K Mar  5 02:41 UserOrganizations.csv\r\n",
      "-rw-rw-r-- 1 rk rk  22K Mar  5 02:09 CompetitionTags.csv\r\n",
      "drwxrwxr-x 2 rk rk 4.0K Mar  7 21:18 formatted\r\n",
      "-rw-rw-r-- 1 rk rk  410 Mar  5 02:33 KernelLanguages.csv\r\n"
     ]
    }
   ],
   "source": [
    "!ls -lhS $data_files_path"
   ]
  },
  {
   "cell_type": "markdown",
   "id": "5dd16aee",
   "metadata": {},
   "source": [
    "- `EpisodeAgents.csv` is the biggest file (~3.5GB)\n",
    "- There are 4 more files that are bigger."
   ]
  },
  {
   "cell_type": "markdown",
   "id": "909f36c0",
   "metadata": {},
   "source": [
    "****"
   ]
  },
  {
   "cell_type": "markdown",
   "id": "353dae1f",
   "metadata": {},
   "source": [
    "## Gather column names of all datasets"
   ]
  },
  {
   "cell_type": "code",
   "execution_count": 10,
   "id": "70fc57fe",
   "metadata": {},
   "outputs": [],
   "source": [
    "import os\n",
    "import csv"
   ]
  },
  {
   "cell_type": "code",
   "execution_count": 11,
   "id": "6686b28d",
   "metadata": {
    "scrolled": true
   },
   "outputs": [
    {
     "name": "stdout",
     "output_type": "stream",
     "text": [
      "All Datasets & Column names\n",
      "CompetitionTags.csv\n",
      "['Id', 'CompetitionId', 'TagId']\n",
      "\n",
      "Datasets.csv\n",
      "['Id', 'CreatorUserId', 'OwnerUserId', 'OwnerOrganizationId', 'CurrentDatasetVersionId', 'CurrentDatasourceVersionId', 'ForumId', 'Type', 'CreationDate', 'LastActivityDate', 'TotalViews', 'TotalDownloads', 'TotalVotes', 'TotalKernels']\n",
      "\n",
      "ForumMessageVotes.csv\n",
      "['Id', 'ForumMessageId', 'FromUserId', 'ToUserId', 'VoteDate']\n",
      "\n",
      "EpisodeAgents.csv\n",
      "['Id', 'EpisodeId', 'Index', 'Reward', 'State', 'SubmissionId', 'InitialConfidence', 'InitialScore', 'UpdatedConfidence', 'UpdatedScore']\n",
      "\n",
      "KernelVersionDatasetSources.csv\n",
      "['Id', 'KernelVersionId', 'SourceDatasetVersionId']\n",
      "\n",
      "Episodes.csv\n",
      "['Id', 'Type', 'CompetitionId', 'CreateTime', 'EndTime']\n",
      "\n",
      "KernelLanguages.csv\n",
      "['Id', 'Name', 'DisplayName', 'IsNotebook']\n",
      "\n",
      "Tags.csv\n",
      "['Id', 'ParentTagId', 'Name', 'Slug', 'FullPath', 'Description', 'DatasetCount', 'CompetitionCount', 'KernelCount']\n",
      "\n",
      "Competitions.csv\n",
      "['Id', 'Slug', 'Title', 'Subtitle', 'HostSegmentTitle', 'ForumId', 'OrganizationId', 'EnabledDate', 'DeadlineDate', 'ProhibitNewEntrantsDeadlineDate', 'TeamMergerDeadlineDate', 'TeamModelDeadlineDate', 'ModelSubmissionDeadlineDate', 'FinalLeaderboardHasBeenVerified', 'HasKernels', 'OnlyAllowKernelSubmissions', 'HasLeaderboard', 'LeaderboardPercentage', 'ScoreTruncationNumDecimals', 'EvaluationAlgorithmAbbreviation', 'EvaluationAlgorithmName', 'EvaluationAlgorithmDescription', 'EvaluationAlgorithmIsMax', 'MaxDailySubmissions', 'NumScoredSubmissions', 'MaxTeamSize', 'BanTeamMergers', 'EnableTeamModels', 'RewardType', 'RewardQuantity', 'NumPrizes', 'UserRankMultiplier', 'CanQualifyTiers', 'TotalTeams', 'TotalCompetitors', 'TotalSubmissions', 'ValidationSetName', 'ValidationSetValue', 'EnableSubmissionModelHashes', 'EnableSubmissionModelAttachments', 'HostName', 'CompetitionTypeId']\n",
      "\n",
      "KernelVersionCompetitionSources.csv\n",
      "['Id', 'KernelVersionId', 'SourceCompetitionId']\n",
      "\n",
      "UserFollowers.csv\n",
      "['Id', 'UserId', 'FollowingUserId', 'CreationDate']\n",
      "\n",
      "KernelVersionKernelSources.csv\n",
      "['Id', 'KernelVersionId', 'SourceKernelVersionId']\n",
      "\n",
      "DatasetTaskSubmissions.csv\n",
      "['Id', 'DatasetTaskId', 'SubmittedUserId', 'CreationDate', 'KernelId', 'DatasetId', 'AcceptedDate']\n",
      "\n",
      "ForumMessages.csv\n",
      "['Id', 'ForumTopicId', 'PostUserId', 'PostDate', 'ReplyToForumMessageId', 'Message', 'Medal', 'MedalAwardDate']\n",
      "\n",
      "TeamMemberships.csv\n",
      "['Id', 'TeamId', 'UserId', 'RequestDate']\n",
      "\n",
      "DatasetVersions.csv\n",
      "['Id', 'DatasetId', 'DatasourceVersionId', 'CreatorUserId', 'LicenseName', 'CreationDate', 'VersionNumber', 'Title', 'Slug', 'Subtitle', 'Description', 'VersionNotes', 'TotalCompressedBytes', 'TotalUncompressedBytes']\n",
      "\n",
      "ForumTopics.csv\n",
      "['Id', 'ForumId', 'KernelId', 'LastForumMessageId', 'FirstForumMessageId', 'CreationDate', 'LastCommentDate', 'Title', 'IsSticky', 'TotalViews', 'Score', 'TotalMessages', 'TotalReplies']\n",
      "\n",
      "Forums.csv\n",
      "['Id', 'ParentForumId', 'Title']\n",
      "\n",
      "Kernels.csv\n",
      "['Id', 'AuthorUserId', 'CurrentKernelVersionId', 'ForkParentKernelVersionId', 'ForumTopicId', 'FirstKernelVersionId', 'CreationDate', 'EvaluationDate', 'MadePublicDate', 'IsProjectLanguageTemplate', 'CurrentUrlSlug', 'Medal', 'MedalAwardDate', 'TotalViews', 'TotalComments', 'TotalVotes']\n",
      "\n",
      "Submissions.csv\n",
      "['Id', 'SubmittedUserId', 'TeamId', 'SourceKernelVersionId', 'SubmissionDate', 'ScoreDate', 'IsAfterDeadline', 'PublicScoreLeaderboardDisplay', 'PublicScoreFullPrecision', 'PrivateScoreLeaderboardDisplay', 'PrivateScoreFullPrecision']\n",
      "\n",
      "KernelVersions.csv\n",
      "['Id', 'ScriptId', 'ParentScriptVersionId', 'ScriptLanguageId', 'AuthorUserId', 'CreationDate', 'VersionNumber', 'Title', 'EvaluationDate', 'IsChange', 'TotalLines', 'LinesInsertedFromPrevious', 'LinesChangedFromPrevious', 'LinesUnchangedFromPrevious', 'LinesInsertedFromFork', 'LinesDeletedFromFork', 'LinesChangedFromFork', 'LinesUnchangedFromFork', 'TotalVotes']\n",
      "\n",
      "Teams.csv\n",
      "['Id', 'CompetitionId', 'TeamLeaderId', 'TeamName', 'ScoreFirstSubmittedDate', 'LastSubmissionDate', 'PublicLeaderboardSubmissionId', 'PrivateLeaderboardSubmissionId', 'IsBenchmark', 'Medal', 'MedalAwardDate', 'PublicLeaderboardRank', 'PrivateLeaderboardRank', 'WriteUpForumTopicId']\n",
      "\n",
      "KernelTags.csv\n",
      "['Id', 'KernelId', 'TagId']\n",
      "\n",
      "Organizations.csv\n",
      "['Id', 'Name', 'Slug', 'CreationDate', 'Description']\n",
      "\n",
      "UserOrganizations.csv\n",
      "['Id', 'UserId', 'OrganizationId', 'JoinDate']\n",
      "\n",
      "DatasetTasks.csv\n",
      "['Id', 'DatasetId', 'OwnerUserId', 'CreationDate', 'Description', 'ForumId', 'Title', 'Subtitle', 'Deadline', 'TotalVotes']\n",
      "\n",
      "Datasources.csv\n",
      "['Id', 'CreatorUserId', 'CreationDate', 'Type', 'CurrentDatasourceVersionId']\n",
      "\n",
      "DatasetVotes.csv\n",
      "['Id', 'UserId', 'DatasetVersionId', 'VoteDate']\n",
      "\n",
      "Users.csv\n",
      "['Id', 'UserName', 'DisplayName', 'RegisterDate', 'PerformanceTier']\n",
      "\n",
      "KernelVotes.csv\n",
      "['Id', 'UserId', 'KernelVersionId', 'VoteDate']\n",
      "\n",
      "DatasetTags.csv\n",
      "['Id', 'DatasetId', 'TagId']\n",
      "\n",
      "UserAchievements.csv\n",
      "['Id', 'UserId', 'AchievementType', 'Tier', 'TierAchievementDate', 'Points', 'CurrentRanking', 'HighestRanking', 'TotalGold', 'TotalSilver', 'TotalBronze']\n",
      "\n"
     ]
    },
    {
     "name": "stderr",
     "output_type": "stream",
     "text": [
      "24/03/08 19:46:24 WARN GarbageCollectionMetrics: To enable non-built-in garbage collector(s) List(G1 Concurrent GC), users should configure it(them) to spark.eventLog.gcMetrics.youngGenerationGarbageCollectors or spark.eventLog.gcMetrics.oldGenerationGarbageCollectors\n"
     ]
    }
   ],
   "source": [
    "schemas = dict()\n",
    "\n",
    "# Iterate through CSV files in the directory\n",
    "for filename in os.listdir(data_files_path):\n",
    "    if filename.endswith(\".csv\"):\n",
    "        file_path = os.path.join(data_files_path, filename)\n",
    "        \n",
    "        with open(file_path, 'r') as file:\n",
    "            reader = csv.reader(file)\n",
    "            headers = next(reader)  # Get the header row\n",
    "            \n",
    "            schemas[filename] = headers\n",
    "            \n",
    "print(\"All Datasets & Column names\")\n",
    "\n",
    "for filename, schema in schemas.items():\n",
    "    print(filename)\n",
    "    print(schema)\n",
    "    print(\"\")"
   ]
  },
  {
   "cell_type": "markdown",
   "id": "78e4d415",
   "metadata": {},
   "source": [
    "****"
   ]
  },
  {
   "cell_type": "code",
   "execution_count": 12,
   "id": "a0dd47c7",
   "metadata": {},
   "outputs": [],
   "source": [
    "spark.stop()"
   ]
  }
 ],
 "metadata": {
  "kernelspec": {
   "display_name": "Python 3 (ipykernel)",
   "language": "python",
   "name": "python3"
  },
  "language_info": {
   "codemirror_mode": {
    "name": "ipython",
    "version": 3
   },
   "file_extension": ".py",
   "mimetype": "text/x-python",
   "name": "python",
   "nbconvert_exporter": "python",
   "pygments_lexer": "ipython3",
   "version": "3.11.5"
  }
 },
 "nbformat": 4,
 "nbformat_minor": 5
}

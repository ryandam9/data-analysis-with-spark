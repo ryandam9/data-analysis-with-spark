{
 "cells": [
  {
   "cell_type": "markdown",
   "id": "473396fc",
   "metadata": {},
   "source": [
    "# Meta Kaggle Overview - Kernels\n",
    "Kaggle's public data on competitions, users, submission scores, and kernels\n",
    "\n",
    "- https://www.kaggle.com/datasets/kaggle/meta-kaggle\n"
   ]
  },
  {
   "cell_type": "code",
   "execution_count": 1,
   "id": "a5ae37c1",
   "metadata": {},
   "outputs": [
    {
     "data": {
      "text/html": [
       "<style type='text/css'>\n",
       ".CodeMirror {\n",
       "    font-size: 14px; \n",
       "    font-family: 'Droid Sans Mono';\n",
       "}\n",
       "</style>\n"
      ],
      "text/plain": [
       "<IPython.core.display.HTML object>"
      ]
     },
     "metadata": {},
     "output_type": "display_data"
    }
   ],
   "source": [
    "%%html\n",
    "<style type='text/css'>\n",
    ".CodeMirror {\n",
    "    font-size: 14px; \n",
    "    font-family: 'Droid Sans Mono';\n",
    "}\n",
    "</style>"
   ]
  },
  {
   "cell_type": "code",
   "execution_count": 2,
   "id": "516ec6ad",
   "metadata": {},
   "outputs": [
    {
     "data": {
      "text/html": [
       "<style>.container { width:85% !important; }</style>"
      ],
      "text/plain": [
       "<IPython.core.display.HTML object>"
      ]
     },
     "metadata": {},
     "output_type": "display_data"
    }
   ],
   "source": [
    "from IPython.display import display, HTML\n",
    "display(HTML(\"<style>.container { width:85% !important; }</style>\"))"
   ]
  },
  {
   "cell_type": "code",
   "execution_count": 3,
   "id": "990a5c72",
   "metadata": {},
   "outputs": [],
   "source": [
    "import pandas as pd\n",
    "\n",
    "pd.set_option('display.max_rows', 500)\n",
    "pd.set_option('display.max_columns', 500)\n",
    "pd.set_option('display.width', 1000)\n",
    "pd.set_option('display.max_colwidth', 1000)\n",
    "pd.set_option(\"display.max_rows\", None, \"display.max_columns\", None)"
   ]
  },
  {
   "cell_type": "code",
   "execution_count": 4,
   "id": "fd09dc4e",
   "metadata": {},
   "outputs": [],
   "source": [
    "from pyspark.sql import SparkSession\n",
    "from pyspark.sql.types import StructType, StructField, StringType, IntegerType, DoubleType, BooleanType\n",
    "from pyspark.sql.functions import *"
   ]
  },
  {
   "cell_type": "code",
   "execution_count": 5,
   "id": "a0af78ed",
   "metadata": {},
   "outputs": [
    {
     "name": "stderr",
     "output_type": "stream",
     "text": [
      "24/03/08 20:20:15 WARN Utils: Your hostname, blue resolves to a loopback address: 127.0.1.1; using 192.168.0.41 instead (on interface wlo1)\n",
      "24/03/08 20:20:15 WARN Utils: Set SPARK_LOCAL_IP if you need to bind to another address\n",
      "Setting default log level to \"WARN\".\n",
      "To adjust logging level use sc.setLogLevel(newLevel). For SparkR, use setLogLevel(newLevel).\n",
      "24/03/08 20:20:15 WARN NativeCodeLoader: Unable to load native-hadoop library for your platform... using builtin-java classes where applicable\n"
     ]
    }
   ],
   "source": [
    "spark = (SparkSession\n",
    "        .builder\n",
    "        .appName(\"meta-kaggle-data-analysis\")\n",
    "        .config(\"spark.driver.memory\", \"4g\")\n",
    "        .config(\"spark.executor.instances\", 4)\n",
    "        .config(\"spark.executor.memory\", \"1g\")\n",
    "        .config(\"spark.executor.cores\", 2)\n",
    "        .getOrCreate()\n",
    "        )"
   ]
  },
  {
   "cell_type": "code",
   "execution_count": 6,
   "id": "286f4acd",
   "metadata": {},
   "outputs": [
    {
     "data": {
      "text/html": [
       "\n",
       "            <div>\n",
       "                <p><b>SparkSession - in-memory</b></p>\n",
       "                \n",
       "        <div>\n",
       "            <p><b>SparkContext</b></p>\n",
       "\n",
       "            <p><a href=\"http://192.168.0.41:4040\">Spark UI</a></p>\n",
       "\n",
       "            <dl>\n",
       "              <dt>Version</dt>\n",
       "                <dd><code>v3.5.1</code></dd>\n",
       "              <dt>Master</dt>\n",
       "                <dd><code>local[*]</code></dd>\n",
       "              <dt>AppName</dt>\n",
       "                <dd><code>meta-kaggle-data-analysis</code></dd>\n",
       "            </dl>\n",
       "        </div>\n",
       "        \n",
       "            </div>\n",
       "        "
      ],
      "text/plain": [
       "<pyspark.sql.session.SparkSession at 0x7f8382779c50>"
      ]
     },
     "execution_count": 6,
     "metadata": {},
     "output_type": "execute_result"
    }
   ],
   "source": [
    "spark"
   ]
  },
  {
   "cell_type": "markdown",
   "id": "5e53e4a1",
   "metadata": {},
   "source": [
    "****"
   ]
  },
  {
   "cell_type": "code",
   "execution_count": 7,
   "id": "5a2f9a9f",
   "metadata": {},
   "outputs": [],
   "source": [
    "data_files_path = \"/home/rk/Desktop/data/kaggle-meta\""
   ]
  },
  {
   "cell_type": "markdown",
   "id": "828f4872",
   "metadata": {},
   "source": [
    "## Kernels"
   ]
  },
  {
   "cell_type": "code",
   "execution_count": 8,
   "id": "dceaef85",
   "metadata": {},
   "outputs": [],
   "source": [
    "kernels_file = f\"{data_files_path}/Kernels.csv\""
   ]
  },
  {
   "cell_type": "code",
   "execution_count": 9,
   "id": "eeb67db2",
   "metadata": {},
   "outputs": [
    {
     "name": "stdout",
     "output_type": "stream",
     "text": [
      "root\n",
      " |-- Id: string (nullable = true)\n",
      " |-- AuthorUserId: string (nullable = true)\n",
      " |-- CurrentKernelVersionId: string (nullable = true)\n",
      " |-- ForkParentKernelVersionId: string (nullable = true)\n",
      " |-- ForumTopicId: string (nullable = true)\n",
      " |-- FirstKernelVersionId: string (nullable = true)\n",
      " |-- CreationDate: string (nullable = true)\n",
      " |-- EvaluationDate: string (nullable = true)\n",
      " |-- MadePublicDate: string (nullable = true)\n",
      " |-- IsProjectLanguageTemplate: string (nullable = true)\n",
      " |-- CurrentUrlSlug: string (nullable = true)\n",
      " |-- Medal: string (nullable = true)\n",
      " |-- MedalAwardDate: string (nullable = true)\n",
      " |-- TotalViews: string (nullable = true)\n",
      " |-- TotalComments: string (nullable = true)\n",
      " |-- TotalVotes: string (nullable = true)\n",
      "\n"
     ]
    }
   ],
   "source": [
    "kernels = spark.read.csv(kernels_file, header=True)\n",
    "kernels.createOrReplaceTempView(\"kernels\")\n",
    "\n",
    "kernels.printSchema()"
   ]
  },
  {
   "cell_type": "code",
   "execution_count": 10,
   "id": "96e610bd",
   "metadata": {},
   "outputs": [
    {
     "data": {
      "text/html": [
       "<div>\n",
       "<style scoped>\n",
       "    .dataframe tbody tr th:only-of-type {\n",
       "        vertical-align: middle;\n",
       "    }\n",
       "\n",
       "    .dataframe tbody tr th {\n",
       "        vertical-align: top;\n",
       "    }\n",
       "\n",
       "    .dataframe thead th {\n",
       "        text-align: right;\n",
       "    }\n",
       "</style>\n",
       "<table border=\"1\" class=\"dataframe\">\n",
       "  <thead>\n",
       "    <tr style=\"text-align: right;\">\n",
       "      <th></th>\n",
       "      <th>Id</th>\n",
       "      <th>AuthorUserId</th>\n",
       "      <th>CurrentKernelVersionId</th>\n",
       "      <th>ForkParentKernelVersionId</th>\n",
       "      <th>ForumTopicId</th>\n",
       "      <th>FirstKernelVersionId</th>\n",
       "      <th>CreationDate</th>\n",
       "      <th>EvaluationDate</th>\n",
       "      <th>MadePublicDate</th>\n",
       "      <th>IsProjectLanguageTemplate</th>\n",
       "      <th>CurrentUrlSlug</th>\n",
       "      <th>Medal</th>\n",
       "      <th>MedalAwardDate</th>\n",
       "      <th>TotalViews</th>\n",
       "      <th>TotalComments</th>\n",
       "      <th>TotalVotes</th>\n",
       "    </tr>\n",
       "  </thead>\n",
       "  <tbody>\n",
       "    <tr>\n",
       "      <th>0</th>\n",
       "      <td>1</td>\n",
       "      <td>2505</td>\n",
       "      <td>205</td>\n",
       "      <td>None</td>\n",
       "      <td>None</td>\n",
       "      <td>1</td>\n",
       "      <td>03/25/2015 18:25:32</td>\n",
       "      <td>03/23/2018</td>\n",
       "      <td>03/25/2015</td>\n",
       "      <td>False</td>\n",
       "      <td>hello</td>\n",
       "      <td>None</td>\n",
       "      <td>None</td>\n",
       "      <td>383</td>\n",
       "      <td>0</td>\n",
       "      <td>0</td>\n",
       "    </tr>\n",
       "    <tr>\n",
       "      <th>1</th>\n",
       "      <td>2</td>\n",
       "      <td>3716</td>\n",
       "      <td>1748</td>\n",
       "      <td>None</td>\n",
       "      <td>26670</td>\n",
       "      <td>2</td>\n",
       "      <td>03/25/2015 18:31:07</td>\n",
       "      <td>04/16/2015</td>\n",
       "      <td>03/25/2015</td>\n",
       "      <td>False</td>\n",
       "      <td>rf-proximity</td>\n",
       "      <td>3</td>\n",
       "      <td>07/15/2016</td>\n",
       "      <td>9128</td>\n",
       "      <td>1</td>\n",
       "      <td>13</td>\n",
       "    </tr>\n",
       "  </tbody>\n",
       "</table>\n",
       "</div>"
      ],
      "text/plain": [
       "  Id AuthorUserId CurrentKernelVersionId ForkParentKernelVersionId ForumTopicId FirstKernelVersionId         CreationDate EvaluationDate MadePublicDate IsProjectLanguageTemplate CurrentUrlSlug Medal MedalAwardDate TotalViews TotalComments TotalVotes\n",
       "0  1         2505                    205                      None         None                    1  03/25/2015 18:25:32     03/23/2018     03/25/2015                     False          hello  None           None        383             0          0\n",
       "1  2         3716                   1748                      None        26670                    2  03/25/2015 18:31:07     04/16/2015     03/25/2015                     False   rf-proximity     3     07/15/2016       9128             1         13"
      ]
     },
     "execution_count": 10,
     "metadata": {},
     "output_type": "execute_result"
    },
    {
     "name": "stderr",
     "output_type": "stream",
     "text": [
      "24/03/08 20:20:34 WARN GarbageCollectionMetrics: To enable non-built-in garbage collector(s) List(G1 Concurrent GC), users should configure it(them) to spark.eventLog.gcMetrics.youngGenerationGarbageCollectors or spark.eventLog.gcMetrics.oldGenerationGarbageCollectors\n"
     ]
    }
   ],
   "source": [
    "spark.sql(\"\"\"\n",
    "SELECT \n",
    "    * \n",
    "FROM \n",
    "    kernels \n",
    "LIMIT 2\n",
    "\"\"\").toPandas()"
   ]
  },
  {
   "cell_type": "markdown",
   "id": "42e9f6f0",
   "metadata": {},
   "source": [
    "## Users"
   ]
  },
  {
   "cell_type": "code",
   "execution_count": 11,
   "id": "53a76bdc",
   "metadata": {},
   "outputs": [
    {
     "name": "stdout",
     "output_type": "stream",
     "text": [
      "root\n",
      " |-- Id: string (nullable = true)\n",
      " |-- UserName: string (nullable = true)\n",
      " |-- DisplayName: string (nullable = true)\n",
      " |-- RegisterDate: string (nullable = true)\n",
      " |-- PerformanceTier: string (nullable = true)\n",
      "\n"
     ]
    }
   ],
   "source": [
    "users_file = f\"{data_files_path}/Users.csv\"\n",
    "users = spark.read.csv(users_file, header=True)\n",
    "\n",
    "users.createOrReplaceTempView(\"users\")\n",
    "# spark.sql(\"CACHE TABLE users\")\n",
    "\n",
    "users.printSchema()"
   ]
  },
  {
   "cell_type": "markdown",
   "id": "4fc99655",
   "metadata": {},
   "source": [
    "## Combine Kernels with Users"
   ]
  },
  {
   "cell_type": "code",
   "execution_count": 12,
   "id": "7ad6c4cb",
   "metadata": {},
   "outputs": [
    {
     "name": "stderr",
     "output_type": "stream",
     "text": [
      "                                                                                \r"
     ]
    },
    {
     "data": {
      "text/html": [
       "<div>\n",
       "<style scoped>\n",
       "    .dataframe tbody tr th:only-of-type {\n",
       "        vertical-align: middle;\n",
       "    }\n",
       "\n",
       "    .dataframe tbody tr th {\n",
       "        vertical-align: top;\n",
       "    }\n",
       "\n",
       "    .dataframe thead th {\n",
       "        text-align: right;\n",
       "    }\n",
       "</style>\n",
       "<table border=\"1\" class=\"dataframe\">\n",
       "  <thead>\n",
       "    <tr style=\"text-align: right;\">\n",
       "      <th></th>\n",
       "      <th>UserId</th>\n",
       "      <th>UserName</th>\n",
       "      <th>DisplayName</th>\n",
       "      <th>PerformanceTier</th>\n",
       "      <th>kernel_url</th>\n",
       "      <th>EnabledDate</th>\n",
       "      <th>TotalViews</th>\n",
       "      <th>TotalComments</th>\n",
       "      <th>TotalVotes</th>\n",
       "      <th>kernelId</th>\n",
       "      <th>CurrentUrlSlug</th>\n",
       "    </tr>\n",
       "  </thead>\n",
       "  <tbody>\n",
       "    <tr>\n",
       "      <th>0</th>\n",
       "      <td>10001008</td>\n",
       "      <td>amauraster</td>\n",
       "      <td>JOSE MANUEL LOZANO</td>\n",
       "      <td>0</td>\n",
       "      <td>https://www.kaggle.com/code/amauraster/ok-cupid-clustering-profiles-with-k-means</td>\n",
       "      <td>2023-05-04</td>\n",
       "      <td>543</td>\n",
       "      <td>0</td>\n",
       "      <td>2</td>\n",
       "      <td>38125501</td>\n",
       "      <td>ok-cupid-clustering-profiles-with-k-means</td>\n",
       "    </tr>\n",
       "    <tr>\n",
       "      <th>1</th>\n",
       "      <td>10001008</td>\n",
       "      <td>amauraster</td>\n",
       "      <td>JOSE MANUEL LOZANO</td>\n",
       "      <td>0</td>\n",
       "      <td>https://www.kaggle.com/code/amauraster/predicting-diamonds-prices-with-ml-random-forest</td>\n",
       "      <td>2023-06-06</td>\n",
       "      <td>47</td>\n",
       "      <td>0</td>\n",
       "      <td>1</td>\n",
       "      <td>39595991</td>\n",
       "      <td>predicting-diamonds-prices-with-ml-random-forest</td>\n",
       "    </tr>\n",
       "    <tr>\n",
       "      <th>2</th>\n",
       "      <td>1000123</td>\n",
       "      <td>actright</td>\n",
       "      <td>Timur Letyagin</td>\n",
       "      <td>0</td>\n",
       "      <td>https://www.kaggle.com/code/actright/notebooka8f98d78ff</td>\n",
       "      <td>2017-04-01</td>\n",
       "      <td>167</td>\n",
       "      <td>0</td>\n",
       "      <td>0</td>\n",
       "      <td>225475</td>\n",
       "      <td>notebooka8f98d78ff</td>\n",
       "    </tr>\n",
       "  </tbody>\n",
       "</table>\n",
       "</div>"
      ],
      "text/plain": [
       "     UserId    UserName         DisplayName PerformanceTier                                                                               kernel_url EnabledDate TotalViews TotalComments TotalVotes  kernelId                                    CurrentUrlSlug\n",
       "0  10001008  amauraster  JOSE MANUEL LOZANO               0         https://www.kaggle.com/code/amauraster/ok-cupid-clustering-profiles-with-k-means  2023-05-04        543             0          2  38125501         ok-cupid-clustering-profiles-with-k-means\n",
       "1  10001008  amauraster  JOSE MANUEL LOZANO               0  https://www.kaggle.com/code/amauraster/predicting-diamonds-prices-with-ml-random-forest  2023-06-06         47             0          1  39595991  predicting-diamonds-prices-with-ml-random-forest\n",
       "2   1000123    actright      Timur Letyagin               0                                  https://www.kaggle.com/code/actright/notebooka8f98d78ff  2017-04-01        167             0          0    225475                                notebooka8f98d78ff"
      ]
     },
     "execution_count": 12,
     "metadata": {},
     "output_type": "execute_result"
    }
   ],
   "source": [
    "kernels_out = spark.sql(\"\"\"\n",
    "SELECT\n",
    "    u.Id AS UserId\n",
    "  , u.UserName\n",
    "  , u.DisplayName\n",
    "  , u.PerformanceTier\n",
    "  , CONCAT(\"https://www.kaggle.com/code/\", u.UserName, \"/\", k.CurrentUrlSlug) AS kernel_url\n",
    "  , CASE\n",
    "      WHEN LENGTH(k.CreationDate) >= 10 AND \n",
    "           regexp_extract(k.CreationDate, r\"(\\d{2}/\\d{2}/\\d{4})\", 1) != \"\" AND\n",
    "           regexp_extract(k.CreationDate, r\"(\\d{2}/\\d{2}/\\d{4})\", 1) IS NOT NULL THEN\n",
    "          to_date(SUBSTR(k.CreationDate, 1, 10), \"MM/dd/yyyy\")\n",
    "      ELSE\n",
    "          '2010-01-01'\n",
    "    END AS EnabledDate\n",
    "  , k.TotalViews\n",
    "  , k.TotalComments\n",
    "  , k.TotalVotes\n",
    "  , k.Id AS kernelId\n",
    "  , k.CurrentUrlSlug\n",
    "FROM\n",
    "    kernels k\n",
    "  , users u\n",
    "WHERE\n",
    "    k.AuthorUserId = u.Id\n",
    "\"\"\")\n",
    "\n",
    "kernels_out.limit(3).toPandas()"
   ]
  },
  {
   "cell_type": "code",
   "execution_count": 13,
   "id": "500a95f5",
   "metadata": {},
   "outputs": [
    {
     "name": "stderr",
     "output_type": "stream",
     "text": [
      "                                                                                \r"
     ]
    }
   ],
   "source": [
    "out_file = f\"{data_files_path}/formatted/Kernels_fmt.csv\"\n",
    "kernels_out.orderBy(\"UserName\").toPandas().to_csv(out_file, index=False)"
   ]
  },
  {
   "cell_type": "code",
   "execution_count": 14,
   "id": "382ec479",
   "metadata": {},
   "outputs": [],
   "source": [
    "spark.stop()"
   ]
  }
 ],
 "metadata": {
  "kernelspec": {
   "display_name": "Python 3 (ipykernel)",
   "language": "python",
   "name": "python3"
  },
  "language_info": {
   "codemirror_mode": {
    "name": "ipython",
    "version": 3
   },
   "file_extension": ".py",
   "mimetype": "text/x-python",
   "name": "python",
   "nbconvert_exporter": "python",
   "pygments_lexer": "ipython3",
   "version": "3.11.5"
  }
 },
 "nbformat": 4,
 "nbformat_minor": 5
}
